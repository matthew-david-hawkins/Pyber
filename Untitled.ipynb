{
 "cells": [
  {
   "cell_type": "code",
   "execution_count": 1,
   "metadata": {},
   "outputs": [],
   "source": [
    "#Objective 1:\n",
    "#Build a Bubble Plot that showcases relationships between four key variables:\n",
    "#Average Fare ($) Per City\n",
    "#Total Number of Rides Per City\n",
    "#Total Number of Drivers Per City\n",
    "#City Type\n",
    "\n",
    "#Objective 2:\n",
    "#Produce three pie charts that visualize how variables break down by City Type:\n",
    "#% of Total Fares by City Type\n",
    "#% of Total Rides by City Type\n",
    "#% of Total Drivers by City Type"
   ]
  },
  {
   "cell_type": "code",
   "execution_count": 3,
   "metadata": {},
   "outputs": [],
   "source": [
    "#Import Dependencies\n",
    "import pandas as pd\n",
    "import matplotlib.pyplot as plt"
   ]
  },
  {
   "cell_type": "code",
   "execution_count": 30,
   "metadata": {
    "scrolled": true
   },
   "outputs": [
    {
     "name": "stdout",
     "output_type": "stream",
     "text": [
      "           city  driver_count   type\n",
      "0   Richardfort            38  Urban\n",
      "1  Williamsstad            59  Urban \n",
      "\n",
      "                 city                 date   fare        ride_id\n",
      "0  Lake Jonathanshire  2018-01-14 10:14:22  13.83  5739410935873\n",
      "1  South Michelleport  2018-03-04 18:24:09  30.24  2343912425577\n",
      "\n",
      "city_df data types:\n",
      "city            object\n",
      "driver_count     int64\n",
      "type            object\n",
      "dtype: object \n",
      "\n",
      "ride_df data types:\n",
      "city        object\n",
      "date        object\n",
      "fare       float64\n",
      "ride_id      int64\n",
      "dtype: object \n",
      "\n",
      "city_df-------------------------------------\n",
      "\n",
      "city_df.city count: 120\n",
      "\n",
      "city_df.city nunique: 120\n",
      "\n",
      "city_df.city isna: 0\n",
      "\n",
      "\n",
      "city_df.driver_count count: 120\n",
      "\n",
      "city_df.driver_count nunique: 52\n",
      "\n",
      "city_df.driver_count isna: 0\n",
      "\n",
      "\n",
      "city_df.type count: 120\n",
      "\n",
      "city_df.type nunique: 3\n",
      "\n",
      "city_df.type isna: 0\n",
      "\n",
      "\n",
      "ride_df--------------------------------------\n",
      "\n",
      "ride_df.city count: 2375\n",
      "\n",
      "ride_df.city nunique: 120\n",
      "\n",
      "ride_df.city isna: 0\n",
      "\n",
      "\n",
      "ride_df.date count: 2375\n",
      "\n",
      "ride_df.date nunique: 2375\n",
      "\n",
      "ride_df.date isna: 0\n",
      "\n",
      "\n",
      "ride_df.fare count: 2375\n",
      "\n",
      "ride_df.fare nunique: 1841\n",
      "\n",
      "ride_df.fare isna: 0\n",
      "\n",
      "\n",
      "ride_df.ride_id count: 2375\n",
      "\n",
      "ride_df.ride_id nunique: 2375\n",
      "\n",
      "ride_df.ride_id isna: 0\n",
      "\n",
      "\n"
     ]
    }
   ],
   "source": [
    "#Read in the data into a DataFrames\n",
    "city_df = pd.read_csv(\"data/city_data.csv\")\n",
    "ride_df = pd.read_csv(\"data/ride_data.csv\")\n",
    "\n",
    "#print info\n",
    "print(f\"{city_df.head(2)} \\n\")\n",
    "print(f\"{ride_df.head(2)}\\n\")\n",
    "print(f\"city_df data types:\\n{city_df.dtypes} \\n\")\n",
    "print(f\"ride_df data types:\\n{ride_df.dtypes} \\n\")\n",
    "\n",
    "#city = City Name, driver_count = number of drivers in that city, type = city type\n",
    "#date = start?/end? date of fare, fare = dollar amount charged for the ride, ride_id = ride UUID\n",
    "\n",
    "#check for invalid data\n",
    "print('city_df-------------------------------------\\n')\n",
    "print(f\"city_df.city count: {city_df['city'].count()}\\n\")\n",
    "print(f\"city_df.city nunique: {city_df['city'].nunique()}\\n\")\n",
    "print(f\"city_df.city isna: {city_df['city'].isna().sum()}\\n\\n\")\n",
    "      \n",
    "print(f\"city_df.driver_count count: {city_df['driver_count'].count()}\\n\")\n",
    "print(f\"city_df.driver_count nunique: {city_df['driver_count'].nunique()}\\n\")\n",
    "print(f\"city_df.driver_count isna: {city_df['driver_count'].isna().sum()}\\n\\n\")\n",
    "      \n",
    "print(f\"city_df.type count: {city_df['type'].count()}\\n\")\n",
    "print(f\"city_df.type nunique: {city_df['type'].nunique()}\\n\")\n",
    "print(f\"city_df.type isna: {city_df['type'].isna().sum()}\\n\\n\")\n",
    "      \n",
    "#Check ride_df for invalid data\n",
    "print('ride_df--------------------------------------\\n')\n",
    "print(f\"ride_df.city count: {ride_df['city'].count()}\\n\")\n",
    "print(f\"ride_df.city nunique: {ride_df['city'].nunique()}\\n\")\n",
    "print(f\"ride_df.city isna: {ride_df['city'].isna().sum()}\\n\\n\")\n",
    "\n",
    "print(f\"ride_df.date count: {ride_df['date'].count()}\\n\")\n",
    "print(f\"ride_df.date nunique: {ride_df['date'].nunique()}\\n\")\n",
    "print(f\"ride_df.date isna: {ride_df['date'].isna().sum()}\\n\\n\")\n",
    "\n",
    "print(f\"ride_df.fare count: {ride_df['fare'].count()}\\n\")\n",
    "print(f\"ride_df.fare nunique: {ride_df['fare'].nunique()}\\n\")\n",
    "print(f\"ride_df.fare isna: {ride_df['fare'].isna().sum()}\\n\\n\")\n",
    "      \n",
    "print(f\"ride_df.ride_id count: {ride_df['ride_id'].count()}\\n\")\n",
    "print(f\"ride_df.ride_id nunique: {ride_df['ride_id'].nunique()}\\n\")\n",
    "print(f\"ride_df.ride_id isna: {ride_df['ride_id'].isna().sum()}\\n\\n\")\n",
    "            "
   ]
  },
  {
   "cell_type": "code",
   "execution_count": 39,
   "metadata": {},
   "outputs": [
    {
     "name": "stdout",
     "output_type": "stream",
     "text": [
      "                 city                 date   fare        ride_id  \\\n",
      "0  Lake Jonathanshire  2018-01-14 10:14:22  13.83  5739410935873   \n",
      "1  South Michelleport  2018-03-04 18:24:09  30.24  2343912425577   \n",
      "2  Port Samanthamouth  2018-02-24 04:29:00  33.44  2005065760003   \n",
      "3          Rodneyfort  2018-02-10 23:22:03  23.44  5149245426178   \n",
      "4          South Jack  2018-03-06 04:28:35  34.58  3908451377344   \n",
      "\n",
      "   driver_count   type  \n",
      "0             5  Urban  \n",
      "1            72  Urban  \n",
      "2            57  Urban  \n",
      "3            34  Urban  \n",
      "4            46  Urban  \n",
      "\n"
     ]
    }
   ],
   "source": [
    "#Merge the data conversing ride information\n",
    "data = ride_df.merge(city_df, how=\"left\", on=\"city\")\n",
    "print(f\"{data.head()}\\n\")"
   ]
  },
  {
   "cell_type": "raw",
   "metadata": {},
   "source": [
    "#Define Average Fare per City\n",
    "\n",
    "#Define Total Number of Rides per City\n",
    "\n",
    "#Define Total Number of Drivers per City\n",
    "\n",
    "#Create Bubble Plot\n",
    "\n",
    "#Format Bubble Plot\n",
    "\n",
    "#Show Bubble Plot"
   ]
  },
  {
   "cell_type": "code",
   "execution_count": null,
   "metadata": {},
   "outputs": [],
   "source": []
  }
 ],
 "metadata": {
  "kernelspec": {
   "display_name": "Python 3",
   "language": "python",
   "name": "python3"
  },
  "language_info": {
   "codemirror_mode": {
    "name": "ipython",
    "version": 3
   },
   "file_extension": ".py",
   "mimetype": "text/x-python",
   "name": "python",
   "nbconvert_exporter": "python",
   "pygments_lexer": "ipython3",
   "version": "3.7.3"
  }
 },
 "nbformat": 4,
 "nbformat_minor": 2
}
